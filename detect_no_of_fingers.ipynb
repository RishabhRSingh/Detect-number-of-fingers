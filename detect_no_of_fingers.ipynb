{
 "cells": [
  {
   "cell_type": "code",
   "execution_count": 1,
   "metadata": {},
   "outputs": [],
   "source": [
    "import cv2"
   ]
  },
  {
   "cell_type": "code",
   "execution_count": 4,
   "metadata": {},
   "outputs": [],
   "source": [
    "import numpy as np"
   ]
  },
  {
   "cell_type": "code",
   "execution_count": 5,
   "metadata": {},
   "outputs": [
    {
     "name": "stdout",
     "output_type": "stream",
     "text": [
      "Collecting scikit-learn\n",
      "  Downloading scikit_learn-1.3.2-cp310-cp310-macosx_10_9_x86_64.whl.metadata (11 kB)\n",
      "Requirement already satisfied: numpy<2.0,>=1.17.3 in /Users/rishabhrajsingh/opt/anaconda3/envs/opcv/lib/python3.10/site-packages (from scikit-learn) (1.26.2)\n",
      "Collecting scipy>=1.5.0 (from scikit-learn)\n",
      "  Downloading scipy-1.11.4-cp310-cp310-macosx_10_9_x86_64.whl.metadata (60 kB)\n",
      "\u001b[2K     \u001b[90m━━━━━━━━━━━━━━━━━━━━━━━━━━━━━━━━━━━━━━━━\u001b[0m \u001b[32m60.4/60.4 kB\u001b[0m \u001b[31m1.5 MB/s\u001b[0m eta \u001b[36m0:00:00\u001b[0m\n",
      "\u001b[?25hCollecting joblib>=1.1.1 (from scikit-learn)\n",
      "  Downloading joblib-1.3.2-py3-none-any.whl.metadata (5.4 kB)\n",
      "Collecting threadpoolctl>=2.0.0 (from scikit-learn)\n",
      "  Downloading threadpoolctl-3.2.0-py3-none-any.whl.metadata (10.0 kB)\n",
      "Downloading scikit_learn-1.3.2-cp310-cp310-macosx_10_9_x86_64.whl (10.2 MB)\n",
      "\u001b[2K   \u001b[90m━━━━━━━━━━━━━━━━━━━━━━━━━━━━━━━━━━━━━━━━\u001b[0m \u001b[32m10.2/10.2 MB\u001b[0m \u001b[31m12.8 MB/s\u001b[0m eta \u001b[36m0:00:00\u001b[0m00:01\u001b[0m0:01\u001b[0m\n",
      "\u001b[?25hDownloading joblib-1.3.2-py3-none-any.whl (302 kB)\n",
      "\u001b[2K   \u001b[90m━━━━━━━━━━━━━━━━━━━━━━━━━━━━━━━━━━━━━━━━\u001b[0m \u001b[32m302.2/302.2 kB\u001b[0m \u001b[31m5.0 MB/s\u001b[0m eta \u001b[36m0:00:00\u001b[0m:00:01\u001b[0m\n",
      "\u001b[?25hDownloading scipy-1.11.4-cp310-cp310-macosx_10_9_x86_64.whl (37.3 MB)\n",
      "\u001b[2K   \u001b[90m━━━━━━━━━━━━━━━━━━━━━━━━━━━━━━━━━━━━━━━━\u001b[0m \u001b[32m37.3/37.3 MB\u001b[0m \u001b[31m8.5 MB/s\u001b[0m eta \u001b[36m0:00:00\u001b[0m:00:01\u001b[0m00:01\u001b[0m\n",
      "\u001b[?25hDownloading threadpoolctl-3.2.0-py3-none-any.whl (15 kB)\n",
      "Installing collected packages: threadpoolctl, scipy, joblib, scikit-learn\n",
      "Successfully installed joblib-1.3.2 scikit-learn-1.3.2 scipy-1.11.4 threadpoolctl-3.2.0\n"
     ]
    }
   ],
   "source": [
    "!pip install scikit-learn"
   ]
  },
  {
   "cell_type": "code",
   "execution_count": 6,
   "metadata": {},
   "outputs": [],
   "source": [
    "from sklearn.metrics import pairwise"
   ]
  },
  {
   "cell_type": "code",
   "execution_count": 7,
   "metadata": {},
   "outputs": [],
   "source": [
    "background = None\n",
    "\n",
    "accumulated_weight = 0.5\n",
    "\n",
    "roi_top = 20\n",
    "roi_bottom = 300\n",
    "roi_right = 300\n",
    "roi_left = 600\n",
    "\n"
   ]
  },
  {
   "cell_type": "code",
   "execution_count": 8,
   "metadata": {},
   "outputs": [],
   "source": [
    "def calc_accum_avg(frame,accumulated_weight):\n",
    "    \n",
    "    global background\n",
    "    \n",
    "    if background is None:\n",
    "        background = frame.copy().astype('float')\n",
    "        return None\n",
    "    cv2.accumulateWeighted(frame,background,accumulated_weight)"
   ]
  },
  {
   "cell_type": "code",
   "execution_count": 9,
   "metadata": {},
   "outputs": [],
   "source": [
    " def segment(frame,threshold_min =25):\n",
    "        \n",
    "        diff = cv2.absdiff(background.astype('uint8'),frame)\n",
    "        \n",
    "        ret, thresholded = cv2.threshold(diff,threshold_min,255,cv2.THRESH_BINARY)\n",
    "        \n",
    "        contours,hierarchy = cv2.findContours(thresholded.copy(),cv2.RETR_EXTERNAL,\n",
    "                                                   cv2.CHAIN_APPROX_SIMPLE)\n",
    "        \n",
    "        if len(contours)==0:\n",
    "            return None\n",
    "        \n",
    "        else:\n",
    "            \n",
    "            #assumoing the largest contour in roi is the hand\n",
    "            \n",
    "            hand_segment = max(contours, key = cv2.contourArea)\n",
    "            \n",
    "            return (thresholded,hand_segment)\n",
    "            \n",
    "        "
   ]
  },
  {
   "cell_type": "code",
   "execution_count": 10,
   "metadata": {},
   "outputs": [],
   "source": [
    "def count_fingers(thresholded,hand_segment):\n",
    "    \n",
    "    conv_hull = cv2.convexHull(hand_segment)\n",
    "    \n",
    "    top    = tuple(conv_hull[conv_hull[:,:,1].argmin()][0])\n",
    "    bottom = tuple(conv_hull[conv_hull[:,:,1].argmax()][0])\n",
    "    left   = tuple(conv_hull[conv_hull[:,:,0].argmin()][0])\n",
    "    right  = tuple(conv_hull[conv_hull[:,:,0].argmax()][0])\n",
    "        \n",
    "        \n",
    "    cX = (left[0] + right[0]) //2\n",
    "    cY = (top[1] + bottom[1]) //2\n",
    "    \n",
    "    distance = pairwise.euclidean_distances([[cX,cY]], Y= [left,right,top,bottom])[0]\n",
    "    \n",
    "    max_distance = distance.max()\n",
    "    \n",
    "    radius =int(0.9*max_distance)\n",
    "    circumference = (2*np.pi*radius)\n",
    "    \n",
    "    circular_roi = np.zeros(thresholded.shape,dtype='uint8')\n",
    "    \n",
    "    cv2.circle(circular_roi,(cX,cY),radius,255,10)\n",
    "    \n",
    "    circular_roi = cv2.bitwise_and(thresholded,thresholded,mask = circular_roi)\n",
    "    \n",
    "    contours,hierarchy = cv2.findContours(circular_roi.copy(),\n",
    "                                                cv2.RETR_EXTERNAL,cv2.CHAIN_APPROX_NONE)\n",
    "    \n",
    "    count = 0\n",
    "    \n",
    "    for cnt in contours:\n",
    "        \n",
    "        (x,y,w,h) = cv2.boundingRect(cnt)\n",
    "        \n",
    "        out_of_wrist = (cY + (cY*0.25)) > (y+h)\n",
    "        \n",
    "        limit_points = ((circumference*0.25) > cnt.shape[0])\n",
    "        \n",
    "        if out_of_wrist and limit_points:\n",
    "            count +=1\n",
    "            \n",
    "    return count\n",
    "        \n",
    "        \n",
    "        \n",
    "        \n",
    "        \n",
    "    "
   ]
  },
  {
   "cell_type": "code",
   "execution_count": 11,
   "metadata": {},
   "outputs": [
    {
     "ename": "KeyboardInterrupt",
     "evalue": "",
     "output_type": "error",
     "traceback": [
      "\u001b[0;31m---------------------------------------------------------------------------\u001b[0m",
      "\u001b[0;31mKeyboardInterrupt\u001b[0m                         Traceback (most recent call last)",
      "Cell \u001b[0;32mIn[11], line 45\u001b[0m\n\u001b[1;32m     42\u001b[0m num_frames \u001b[38;5;241m+\u001b[39m\u001b[38;5;241m=\u001b[39m \u001b[38;5;241m1\u001b[39m\n\u001b[1;32m     43\u001b[0m cv2\u001b[38;5;241m.\u001b[39mimshow(\u001b[38;5;124m'\u001b[39m\u001b[38;5;124mFinger Count\u001b[39m\u001b[38;5;124m'\u001b[39m,frame_copy)\n\u001b[0;32m---> 45\u001b[0m k\u001b[38;5;241m=\u001b[39m \u001b[43mcv2\u001b[49m\u001b[38;5;241;43m.\u001b[39;49m\u001b[43mwaitKey\u001b[49m\u001b[43m(\u001b[49m\u001b[38;5;241;43m1\u001b[39;49m\u001b[43m)\u001b[49m \u001b[38;5;241m&\u001b[39m \u001b[38;5;241m0xFF\u001b[39m\n\u001b[1;32m     47\u001b[0m \u001b[38;5;28;01mif\u001b[39;00m k\u001b[38;5;241m==\u001b[39m\u001b[38;5;241m27\u001b[39m:\n\u001b[1;32m     48\u001b[0m     \u001b[38;5;28;01mbreak\u001b[39;00m\n",
      "\u001b[0;31mKeyboardInterrupt\u001b[0m: "
     ]
    }
   ],
   "source": [
    "cam = cv2.VideoCapture(0)\n",
    "\n",
    "num_frames = 0\n",
    "\n",
    "while True:\n",
    "    \n",
    "    ret, frame = cam.read()\n",
    "    \n",
    "    frame_copy = frame.copy()\n",
    "    \n",
    "    roi = frame[ roi_top:roi_bottom,roi_right:roi_left]\n",
    "    \n",
    "    gray = cv2.cvtColor(roi,cv2.COLOR_BGR2GRAY)\n",
    "    \n",
    "    #gray = cv2.GaussianBlur(gray,accumulated_weight)\n",
    "    \n",
    "    gray = cv2.GaussianBlur(gray,(7,7),0)\n",
    "    \n",
    "    if num_frames < 60:\n",
    "        calc_accum_avg(gray, accumulated_weight)\n",
    "        \n",
    "        if num_frames <= 59:\n",
    "            cv2.putText(frame_copy,'Wait. Getting BAckground', (200,300),\n",
    "                        cv2.FONT_HERSHEY_SIMPLEX,1,(0,0,255),2)\n",
    "            cv2.imshow('Finger Count', frame_copy)\n",
    "            \n",
    "    else:\n",
    "            \n",
    "        hand = segment(gray)\n",
    "            \n",
    "        if hand is not None:\n",
    "            thresholded , hand_segment = hand\n",
    "                \n",
    "            cv2.drawContours(frame_copy,[hand_segment +(roi_right,roi_top)],-1,(255,0,0),5)\n",
    "                \n",
    "            fingers = count_fingers(thresholded,hand_segment)\n",
    "                \n",
    "            cv2.putText(frame_copy,str(fingers),(70,50),cv2.FONT_HERSHEY_SIMPLEX,1,(0,0,255),2)\n",
    "            cv2.imshow('Threshold',thresholded)\n",
    "    cv2.rectangle(frame_copy,(roi_left,roi_top),(roi_right,roi_bottom),(0,0,255),5)\n",
    "    \n",
    "    num_frames += 1\n",
    "    cv2.imshow('Finger Count',frame_copy)\n",
    "    \n",
    "    k= cv2.waitKey(1) & 0xFF\n",
    "    \n",
    "    if k==27:\n",
    "        break\n",
    "cam.release()\n",
    "cv2.destroyAllWindows()    "
   ]
  },
  {
   "cell_type": "code",
   "execution_count": null,
   "metadata": {},
   "outputs": [],
   "source": []
  },
  {
   "cell_type": "code",
   "execution_count": null,
   "metadata": {},
   "outputs": [],
   "source": []
  },
  {
   "cell_type": "code",
   "execution_count": null,
   "metadata": {},
   "outputs": [],
   "source": []
  }
 ],
 "metadata": {
  "kernelspec": {
   "display_name": "Python 3 (ipykernel)",
   "language": "python",
   "name": "python3"
  },
  "language_info": {
   "codemirror_mode": {
    "name": "ipython",
    "version": 3
   },
   "file_extension": ".py",
   "mimetype": "text/x-python",
   "name": "python",
   "nbconvert_exporter": "python",
   "pygments_lexer": "ipython3",
   "version": "3.10.13"
  }
 },
 "nbformat": 4,
 "nbformat_minor": 4
}
